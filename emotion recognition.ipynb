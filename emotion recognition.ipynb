{
 "cells": [
  {
   "cell_type": "code",
   "execution_count": 1,
   "metadata": {},
   "outputs": [],
   "source": [
    "import cv2\n",
    "from tkinter import*\n"
   ]
  },
  {
   "cell_type": "code",
   "execution_count": 2,
   "metadata": {},
   "outputs": [],
   "source": [
    "#from PIL import ImageTk\n",
    "import os\n",
    "os.getcwd()\n",
    "os.chdir(\"C:\\\\Users\\\\HP\")"
   ]
  },
  {
   "cell_type": "code",
   "execution_count": 3,
   "metadata": {},
   "outputs": [],
   "source": [
    "import os\n",
    "os.getcwd()\n",
    "os.chdir(\"C:\\\\Users\\\\HP\\\\\\Anaconda3\")\n",
    "import PIL"
   ]
  },
  {
   "cell_type": "code",
   "execution_count": null,
   "metadata": {},
   "outputs": [],
   "source": [
    "from PIL import Image,ImageTk"
   ]
  },
  {
   "cell_type": "code",
   "execution_count": 4,
   "metadata": {},
   "outputs": [],
   "source": [
    "from PIL import*"
   ]
  },
  {
   "cell_type": "code",
   "execution_count": null,
   "metadata": {},
   "outputs": [],
   "source": []
  },
  {
   "cell_type": "code",
   "execution_count": 5,
   "metadata": {},
   "outputs": [],
   "source": [
    "EMOTIONS = ['Angry', 'Disgusted', 'Fearful', 'Happy', 'Sad', 'Surprised', 'Neutral']"
   ]
  },
  {
   "cell_type": "code",
   "execution_count": null,
   "metadata": {},
   "outputs": [],
   "source": []
  },
  {
   "cell_type": "code",
   "execution_count": 6,
   "metadata": {},
   "outputs": [
    {
     "name": "stderr",
     "output_type": "stream",
     "text": [
      "Using TensorFlow backend.\n"
     ]
    }
   ],
   "source": [
    "from keras.models import load_model"
   ]
  },
  {
   "cell_type": "code",
   "execution_count": 7,
   "metadata": {},
   "outputs": [],
   "source": [
    "import numpy as  np\n",
    "MODELPATH=('C:\\\\Users\\\\HP\\\\gesture recognition\\\\\n",
    "chkPt3.h5')"
   ]
  },
  {
   "cell_type": "code",
   "execution_count": 8,
   "metadata": {},
   "outputs": [],
   "source": [
    "face_cascade = cv2.CascadeClassifier('C:\\\\Users\\\\HP\\\\Desktop\\\\Summer Project\\\\hand\\\\haarcascades\\\\haarcascade_frontalface_default.xml')"
   ]
  },
  {
   "cell_type": "code",
   "execution_count": 9,
   "metadata": {
    "scrolled": false
   },
   "outputs": [
    {
     "name": "stdout",
     "output_type": "stream",
     "text": [
      "[[0.15410091 0.14390066 0.00275828 0.03236669 0.6668734 ]]\n",
      "4\n"
     ]
    },
    {
     "ename": "AttributeError",
     "evalue": "type object 'Image' has no attribute 'fromarray'",
     "output_type": "error",
     "traceback": [
      "\u001b[1;31m---------------------------------------------------------------------------\u001b[0m",
      "\u001b[1;31mAttributeError\u001b[0m                            Traceback (most recent call last)",
      "\u001b[1;32m<ipython-input-9-5f11d3918090>\u001b[0m in \u001b[0;36m<module>\u001b[1;34m()\u001b[0m\n\u001b[0;32m     67\u001b[0m         \u001b[0mframe2\u001b[0m\u001b[1;33m=\u001b[0m\u001b[0mcv2\u001b[0m\u001b[1;33m.\u001b[0m\u001b[0mcvtColor\u001b[0m\u001b[1;33m(\u001b[0m\u001b[0mframe2\u001b[0m\u001b[1;33m,\u001b[0m \u001b[0mcv2\u001b[0m\u001b[1;33m.\u001b[0m\u001b[0mCOLOR_BGR2RGB\u001b[0m\u001b[1;33m)\u001b[0m\u001b[1;33m\u001b[0m\u001b[0m\n\u001b[0;32m     68\u001b[0m         \u001b[0ma\u001b[0m\u001b[1;33m=\u001b[0m\u001b[0mframe2\u001b[0m\u001b[1;33m\u001b[0m\u001b[0m\n\u001b[1;32m---> 69\u001b[1;33m         \u001b[0ma\u001b[0m\u001b[1;33m=\u001b[0m\u001b[0mImage\u001b[0m\u001b[1;33m.\u001b[0m\u001b[0mfromarray\u001b[0m\u001b[1;33m(\u001b[0m\u001b[0ma\u001b[0m\u001b[1;33m)\u001b[0m\u001b[1;33m\u001b[0m\u001b[0m\n\u001b[0m\u001b[0;32m     70\u001b[0m         \u001b[0mb\u001b[0m\u001b[1;33m=\u001b[0m\u001b[0mImageTk\u001b[0m\u001b[1;33m.\u001b[0m\u001b[0mPhotoImage\u001b[0m\u001b[1;33m(\u001b[0m\u001b[0mimage\u001b[0m\u001b[1;33m=\u001b[0m\u001b[0ma\u001b[0m\u001b[1;33m)\u001b[0m\u001b[1;33m\u001b[0m\u001b[0m\n\u001b[0;32m     71\u001b[0m         \u001b[0mh1\u001b[0m\u001b[1;33m.\u001b[0m\u001b[0mb\u001b[0m\u001b[1;33m=\u001b[0m\u001b[0mb\u001b[0m\u001b[1;33m\u001b[0m\u001b[0m\n",
      "\u001b[1;31mAttributeError\u001b[0m: type object 'Image' has no attribute 'fromarray'"
     ]
    }
   ],
   "source": [
    "emotion_dict = {0: \"Angry\", 1: \"Surprise\", 2: \"Fear\", 3: \"Happy\",4: \"Sad\",5: \"Surprise\",6: \"Neutral\"}\n",
    "\n",
    "model = load_model(MODELPATH)\n",
    "\n",
    "cap = cv2.VideoCapture(0)\n",
    "#cap.set(3,480)  \n",
    "#cap.set(4,640)\n",
    "\n",
    "root=Tk()\n",
    "root.geometry(\"1000x1000\")\n",
    "\n",
    "\n",
    "\n",
    "labelfont=('times',20,'bold')\n",
    "widget=Label(root,text=\"FACIAL GESTURE RECOGNITION\")\n",
    "widget.config(bg='black',fg='yellow')\n",
    "widget.config(font=labelfont)\n",
    "widget.pack()\n",
    "h1=Label(root,text=\"Emotion Recognised\")\n",
    "h1.pack()\n",
    "\n",
    "##canvas1=Canvas(root,width=800,height=1000)\n",
    "##canvas1.pack(side = RIGHT)\n",
    "\n",
    "\n",
    "\n",
    "canvas=Canvas(root,width=350,height=350)\n",
    "canvas.pack(side =TOP)\n",
    "\n",
    "while (cap.isOpened()):\n",
    "    ret, frame2 = cap.read()\n",
    "    \n",
    "    frame1 = cv2.cvtColor(frame2, cv2.COLOR_BGR2GRAY)\n",
    "    \n",
    "    face_cascade = cv2.CascadeClassifier(\"C:\\\\Python27\\\\cass face\\\\face detector\\\\haarcascade_frontalface_default.xml\")\n",
    "    faces = face_cascade.detectMultiScale(frame1, 1.3, 5)\n",
    "    \n",
    "\n",
    "    for (x, y, w, h) in faces:\n",
    "        cv2.rectangle(frame2, (x, y), (x + w, y + h), (0,255,0), 2)\n",
    "        cv2.rectangle(frame1, (x, y), (x + w, y + h), (0, 255, 0), 1)\n",
    "        roi_gray = frame1[y:y + h, x:x + w]\n",
    "        cropped_img = np.expand_dims(np.expand_dims(cv2.resize(roi_gray, (48, 48)), -1), 0)\n",
    "       \n",
    "        cv2.normalize(cropped_img, cropped_img, alpha=0, beta=1, norm_type=cv2.NORM_L2, dtype=cv2.CV_32F)\n",
    "        prediction = model.predict(cropped_img)\n",
    "        print(prediction)\n",
    "        cv2.putText(frame2, emotion_dict[int(np.argmax(prediction))], (x, y), cv2.FONT_HERSHEY_SIMPLEX, 2, (255, 0,0), 4, cv2.LINE_AA)\n",
    "\n",
    "        x=int(np.argmax(prediction))\n",
    "        print(x)\n",
    "        \n",
    "\n",
    "        \n",
    "        if x==0:\n",
    "            img=PhotoImage(file=\"C:\\\\Users\\\\HP\\\\gesture recognition\\\\00.png\")\n",
    "        elif x==1:\n",
    "            img=PhotoImage(file=\"C:\\\\Users\\\\HP\\\\gesture recognition\\\\11.png\")\n",
    "        elif x==2:\n",
    "            img=PhotoImage(file=\"C:\\\\Users\\\\HP\\\\gesture recognition\\\\22.png\")\n",
    "        elif x==3:\n",
    "            img=PhotoImage(file=\"C:\\\\Users\\\\HP\\\\gesture recognition\\\\33.png\")\n",
    "        elif x==4:\n",
    "            img=PhotoImage(file=\"C:\\\\Users\\\\HP\\\\gesture recognition\\\\44.png\")\n",
    "            \n",
    "        canvas.create_image(150,60,anchor=N,image=img)\n",
    "        frame2=cv2.cvtColor(frame2, cv2.COLOR_BGR2RGB)\n",
    "        a=frame2\n",
    "        a=Image.fromarray(a)\n",
    "        b=ImageTk.PhotoImage(image=a)\n",
    "        h1.b=b\n",
    "        h1.configure(image=b)\n",
    "        \n",
    "        \n",
    "      \n",
    "        #cv2.putText(frame2, \"Facial Emotion \", (35, 35), cv2.FONT_HERSHEY_SIMPLEX, 4, (23, 49,62), 4, cv2.LINE_AA)\n",
    "        \n",
    "        canvas.create_image(1,1,anchor=NE,image=b)\n",
    "     \n",
    "    \n",
    "    cv2.imshow('Gesture ', frame2)\n",
    "\n",
    "    if cv2.waitKey(1) & 0xFF == ord('q'):\n",
    "        break\n",
    "\n",
    "    root.update_idletasks()\n",
    "    root.update()\n",
    "    \n",
    "cap.release()\n",
    "cv2.destroyAllWindows()\n"
   ]
  },
  {
   "cell_type": "code",
   "execution_count": null,
   "metadata": {},
   "outputs": [],
   "source": []
  },
  {
   "cell_type": "code",
   "execution_count": null,
   "metadata": {},
   "outputs": [],
   "source": [
    "\n"
   ]
  },
  {
   "cell_type": "code",
   "execution_count": null,
   "metadata": {},
   "outputs": [],
   "source": []
  }
 ],
 "metadata": {
  "kernelspec": {
   "display_name": "Python 3",
   "language": "python",
   "name": "python3"
  },
  "language_info": {
   "codemirror_mode": {
    "name": "ipython",
    "version": 3
   },
   "file_extension": ".py",
   "mimetype": "text/x-python",
   "name": "python",
   "nbconvert_exporter": "python",
   "pygments_lexer": "ipython3",
   "version": "3.5.6"
  }
 },
 "nbformat": 4,
 "nbformat_minor": 2
}
